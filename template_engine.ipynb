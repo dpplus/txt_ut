{
 "cells": [
  {
   "cell_type": "code",
   "execution_count": 1,
   "metadata": {},
   "outputs": [],
   "source": [
    "#bring the variables in the string to variable space\n",
    "import os\n",
    "import math\n",
    "import re\n",
    "from io import StringIO\n",
    "import sys\n",
    "from StrPyExc import StrExc\n",
    "import xml.etree.ElementTree as ET"
   ]
  },
  {
   "cell_type": "markdown",
   "metadata": {},
   "source": [
    "to limit the complexity, we require that the hierachy of xml will be limited to three levels:\n",
    "<root>0\n",
    "    <py>1\n",
    "         <v>2\n",
    "    <const>1\n",
    "    <v>1\n",
    "    <str>1\n",
    "         <v>2\n",
    "    "
   ]
  },
  {
   "cell_type": "code",
   "execution_count": 13,
   "metadata": {},
   "outputs": [
    {
     "data": {
      "text/plain": [
       "0"
      ]
     },
     "execution_count": 13,
     "metadata": {},
     "output_type": "execute_result"
    }
   ],
   "source": [
    "class template_engine:\n",
    "    def __init__(self,filename=''):\n",
    "        self.tree=ET.parse('testapi.xml')\n",
    "        \n",
    "    def generate_strings(self,key_dict):\n",
    "        paralist=[]\n",
    "        root = self.tree.getroot()\n",
    "        for child in root:\n",
    "            if child.tag=='const':\n",
    "                paralist.append(child.text)\n",
    "            elif child.tag=='v':\n",
    "                paralist.append(str(key_dict[child.text]))\n",
    "            elif child.tag=='py':\n",
    "                paralist.append(self.py2str(child,key_dict)) \n",
    "            elif child.tag=='str':\n",
    "                paralist.append(self.str2str(child,key_dict))                \n",
    "        self.paralist=paralist\n",
    "        return self\n",
    "\n",
    "    \n",
    "    def write(self,outfile_name):\n",
    "        with open(outfile_name, 'w') as the_file:  \n",
    "            for txtstr in self.paralist:\n",
    "                the_file.write(txtstr)\n",
    "        return 0\n",
    "    \n",
    "    \n",
    "    def printwrite(self):\n",
    "        for txtstr in self.paralist:\n",
    "            print(txtstr)\n",
    "        return 0\n",
    "    \n",
    "    def py2str(self,child,key_dict):\n",
    "        outstring=''\n",
    "        addvarstring=''\n",
    "        my= StrExc()\n",
    "        \n",
    "        # add variable to the string so that they will get a initial value\n",
    "        for variable in child.getchildren():\n",
    "            if variable.tag=='v':\n",
    "                value=key_dict[variable.text]\n",
    "                addvarstring+= variable.text+'='+ str(value)+'\\n'\n",
    "            outstring+=variable.text\n",
    "        return my.get_str(addvarstring+outstring)\n",
    "\n",
    "    def str2str(self,child,key_dict):\n",
    "        outstring=''\n",
    "        \n",
    "        # add variable to the string so that they will get a initial value\n",
    "        for variable in child.getchildren():\n",
    "            if variable.tag=='v':\n",
    "                outstring+=str(key_dict[variable.text])\n",
    "            else:\n",
    "                outstring+=variable.text\n",
    "        #get ride of the variable mark <v></v>    \n",
    "        \n",
    "        return outstring\n",
    "    \n",
    "    \n",
    "    def simple_test(self):\n",
    "        test_dict={'multi':1.5,'price':2}\n",
    "        self.generate_strings(test_dict).write('tempt.out')\n",
    "        return 0\n",
    "    \n",
    "template_engine('testapi.xml').simple_test()"
   ]
  }
 ],
 "metadata": {
  "kernelspec": {
   "display_name": "Python 3",
   "language": "python",
   "name": "python3"
  },
  "language_info": {
   "codemirror_mode": {
    "name": "ipython",
    "version": 3
   },
   "file_extension": ".py",
   "mimetype": "text/x-python",
   "name": "python",
   "nbconvert_exporter": "python",
   "pygments_lexer": "ipython3",
   "version": "3.6.5"
  }
 },
 "nbformat": 4,
 "nbformat_minor": 2
}
