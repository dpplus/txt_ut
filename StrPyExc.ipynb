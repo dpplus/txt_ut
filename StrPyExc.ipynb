{
 "cells": [
  {
   "cell_type": "code",
   "execution_count": 1,
   "metadata": {},
   "outputs": [],
   "source": [
    "import os\n",
    "import math\n",
    "import re\n",
    "from io import StringIO\n",
    "import sys"
   ]
  },
  {
   "cell_type": "code",
   "execution_count": 2,
   "metadata": {},
   "outputs": [
    {
     "name": "stdout",
     "output_type": "stream",
     "text": [
      "0123456789\n"
     ]
    }
   ],
   "source": [
    "# the basic function we are using\n",
    "tempt_string=''\n",
    "exec(\"for i in range(0,10):\\n\\ttempt_string+=str(i)\\n\")\n",
    "print (tempt_string)"
   ]
  },
  {
   "cell_type": "code",
   "execution_count": 22,
   "metadata": {},
   "outputs": [
    {
     "name": "stdout",
     "output_type": "stream",
     "text": [
      "[0.0, 1.0, 2.0, 3.0, 4.0, 5.0, 6.0, 7.0, 8.0, 9.0]\n",
      "['0', '1', '2', '3', '4', '5', '6', '7', '8', '9']\n"
     ]
    }
   ],
   "source": [
    "tempt_string=1\n",
    "class StrExc:\n",
    "    def __init__(self,mark='\\*\\*'):\n",
    "        self.mark=mark\n",
    "            \n",
    "    def get_str(self,pystring):\n",
    "        old_stdout=sys.stdout\n",
    "        redirected_output=sys.stdout=StringIO()\n",
    "        exec(pystring)\n",
    "        return_string=redirected_output.getvalue()\n",
    "        sys.stdout=old_stdout\n",
    "        return return_string\n",
    "    \n",
    "    def str2floatlist(self,pystring):\n",
    "        list_tempt=self.get_str(pystring)\n",
    "        list_tempt=list_tempt[1:-2].split(',')\n",
    "        list_tempt=[float(f) for f in list_tempt]\n",
    "        #print (list_tempt,'\\n\\n\\n list:',list_tempt[1:-1].split(','))\n",
    "        return list_tempt\n",
    "        \n",
    "    def str2strlist(self,pystring):\n",
    "        '''\n",
    "        used when the list gennerated in py script has string as elements\n",
    "        '''\n",
    "        list_tempt=self.get_str(pystring)\n",
    "        list_tempt=list_tempt[2:-3].split('\\', \\'')\n",
    "        #list_tempt=[float(f) for f in list_tempt]\n",
    "        #print (list_tempt,'\\n\\n\\n list:',list_tempt[1:-1].split(','))\n",
    "        return list_tempt\n",
    "\n",
    "        \n",
    "my= StrExc()\n",
    "back_string=my.get_str(\"tempt_string=''\\nfor i in range(0,10):\\n\\ttempt_string+=str(i)\\nprint(tempt_string)\")    \n",
    "#print(back_string)\n",
    "\n",
    "back_string=my.get_str(\"for i in range(0,10):\\n\\tprint(i)\")    \n",
    "#print(back_string)\n",
    "\n",
    "back_string=my.str2floatlist(\"tempt_list=[]\\nfor i in range(0,10):\\n\\ttempt_list.append(i)\\nprint(tempt_list)\")    \n",
    "print('test str2floatlist: ',back_string)\n",
    "\n",
    "back_string=my.str2strlist(\"tempt_list=[]\\nfor i in range(0,10):\\n\\ttempt_list.append(str(i))\\nprint(tempt_list)\")    \n",
    "print('test str2strlist: ',back_string)"
   ]
  },
  {
   "cell_type": "code",
   "execution_count": null,
   "metadata": {},
   "outputs": [],
   "source": [
    "list()"
   ]
  }
 ],
 "metadata": {
  "kernelspec": {
   "display_name": "Python 3",
   "language": "python",
   "name": "python3"
  },
  "language_info": {
   "codemirror_mode": {
    "name": "ipython",
    "version": 3
   },
   "file_extension": ".py",
   "mimetype": "text/x-python",
   "name": "python",
   "nbconvert_exporter": "python",
   "pygments_lexer": "ipython3",
   "version": "3.6.5"
  }
 },
 "nbformat": 4,
 "nbformat_minor": 2
}
